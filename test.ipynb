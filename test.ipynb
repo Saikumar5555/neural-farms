{
 "cells": [
  {
   "cell_type": "code",
   "execution_count": 1,
   "metadata": {},
   "outputs": [],
   "source": [
    "import numpy as np\n",
    "import pandas as pd\n",
    "from sklearn.preprocessing import StandardScaler, LabelEncoder\n",
    "from sklearn.pipeline import make_pipeline\n",
    "from sklearn.model_selection import train_test_split\n",
    "from sklearn.ensemble import RandomForestClassifier \n",
    "from xgboost import XGBClassifier\n",
    "\n",
    "data=pd.read_csv(r'C:\\Saikumar\\Neural farms\\dataset\\integrated-agriculture-platform\\farm\\datasets\\Crop_recommendation.csv')\n",
    "data=data.drop(['N','P','K'],axis=1)\n",
    "\n",
    "label_encoder = LabelEncoder()\n",
    "X = data.drop(['label'],axis=1)\n",
    "y = label_encoder.fit_transform(data[\"label\"])\n",
    "\n",
    "X_train, X_test, y_train, y_test = train_test_split(X.values, y, test_size = 0.15, random_state = 0)\n",
    "\n",
    "\n",
    "def RDF():\n",
    "\n",
    "    pipeline = make_pipeline(StandardScaler(), RandomForestClassifier(n_estimators=9,random_state=128))\n",
    "    pipeline.fit(X_train, y_train)\n",
    "\n",
    "    # Test Data Metrics\n",
    "    predictions = pipeline.predict(X_test)\n",
    "    # accuracy = accuracy_score(y_test, predictions)\n",
    "    # print(f\"Accuracy on Test Data: {accuracy*100}%\")\n",
    "\n",
    "    # Whole Data Metrics\n",
    "    predictions = pipeline.predict(X.values)\n",
    "    # accuracy = accuracy_score(y, predictions)\n",
    "    # print(f\"Accuracy on Whole Data: {accuracy*100}%\")\n",
    "\n",
    "    return pipelinexcxcxx\n",
    "\n",
    "def XGB():\n",
    "    knn_pipeline = make_pipeline(StandardScaler(), XGBClassifier(random_state=128))\n",
    "    knn_pipeline.fit(X_train, y_train)\n",
    "\n",
    "    # Test Data Metrics\n",
    "    predictions = knn_pipeline.predict(X_test)\n",
    "    # accuracy = accuracy_score(y_test, predictions)\n",
    "    # print(f\"Accuracy on Test Data: {accuracy*100}%\")\n",
    "\n",
    "    # Whole Data Metrics\n",
    "    predictions = knn_pipeline.predict(X.values)\n",
    "    # accuracy = accuracy_score(y, predictions)\n",
    "    # print(f\"Accuracy on Whole Data: {accuracy*100}%\")\n",
    "\n",
    "    return knn_pipeline\n"
   ]
  },
  {
   "cell_type": "code",
   "execution_count": 2,
   "metadata": {},
   "outputs": [],
   "source": [
    "ranfor = XGB()"
   ]
  },
  {
   "cell_type": "code",
   "execution_count": 3,
   "metadata": {},
   "outputs": [],
   "source": [
    "temp = 20.87974371\n",
    "humi = 82.00274423\n",
    "ph = 6.502985292000001\n",
    "rain = 202.9355362"
   ]
  },
  {
   "cell_type": "code",
   "execution_count": 4,
   "metadata": {},
   "outputs": [],
   "source": [
    "val = ranfor.predict(np.array([temp,humi,ph,rain]).reshape(1,-1))"
   ]
  },
  {
   "cell_type": "code",
   "execution_count": 5,
   "metadata": {},
   "outputs": [],
   "source": [
    "val = label_encoder.inverse_transform(val)"
   ]
  },
  {
   "cell_type": "code",
   "execution_count": 6,
   "metadata": {},
   "outputs": [
    {
     "data": {
      "text/plain": [
       "'rice'"
      ]
     },
     "execution_count": 6,
     "metadata": {},
     "output_type": "execute_result"
    }
   ],
   "source": [
    "val[0]"
   ]
  },
  {
   "cell_type": "code",
   "execution_count": 7,
   "metadata": {},
   "outputs": [],
   "source": [
    "import os\n",
    "os.environ['TORCH_FORCE_NO_WEIGHTS_ONLY_LOAD'] = '1'"
   ]
  },
  {
   "cell_type": "code",
   "execution_count": 1,
   "metadata": {},
   "outputs": [
    {
     "name": "stdout",
     "output_type": "stream",
     "text": [
      "\n",
      "image 1/1 C:\\Saikumar\\Neural farms\\Screenshot_26-11-2024_7057_www.bing.com.jpeg: 448x640 2 -s, 62.1ms\n",
      "Speed: 5.0ms preprocess, 62.1ms inference, 6.6ms postprocess per image at shape (1, 3, 448, 640)\n"
     ]
    }
   ],
   "source": [
    "from ultralytics import YOLO\n",
    "\n",
    "# Load a model\n",
    "model = YOLO(r\"C:\\Saikumar\\Neural farms\\modaaal\\best.pt\")  # pretrained YOLO11n model\n",
    "\n",
    "# Run batched inference on a list of images\n",
    "results = model.predict(r\"C:\\Saikumar\\Neural farms\\Screenshot_26-11-2024_7057_www.bing.com.jpeg\",imgsz=640)  # return a list of Results objects\n",
    "\n",
    "# Process results list\n",
    "for result in results:\n",
    " \n",
    "    result.show()  # display to screen\n",
    "    result.save(filename=\"result.jpg\")  # save to disk"
   ]
  }
 ],
 "metadata": {
  "kernelspec": {
   "display_name": "rag",
   "language": "python",
   "name": "python3"
  },
  "language_info": {
   "codemirror_mode": {
    "name": "ipython",
    "version": 3
   },
   "file_extension": ".py",
   "mimetype": "text/x-python",
   "name": "python",
   "nbconvert_exporter": "python",
   "pygments_lexer": "ipython3",
   "version": "3.11.10"
  }
 },
 "nbformat": 4,
 "nbformat_minor": 2
}
